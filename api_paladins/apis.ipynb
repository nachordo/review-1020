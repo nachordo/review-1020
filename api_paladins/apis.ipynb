{
 "cells": [
  {
   "cell_type": "markdown",
   "metadata": {},
   "source": [
    "# API PALADINS\n",
    "![Api Paladins](../img/ap.jpg)"
   ]
  },
  {
   "cell_type": "markdown",
   "metadata": {},
   "source": [
    "## ```Welcome to your challenge```\n",
    "\n",
    "You and your teammates have been asigned the role of `api paladins`, mystic knights of the data wars. Brave and knowledgeable, you travel to the furthest corners of the _data_ world in search of the wisdom of fellow paladins. However, they will not share it with anyone, only those who know the right protocol. And sometimes, to get in, you must have the right key.\n",
    "\n",
    "However, fighting the battle is not the end, you must live to tell the tale."
   ]
  },
  {
   "cell_type": "markdown",
   "metadata": {},
   "source": [
    "### The song of a hero\n",
    "\n",
    "Your theme is: `http and API's`\n",
    "The task in this challenge is twofold.\n",
    "Your team must:\n",
    "- Answer the most questions you can.\n",
    "- List **at least** `5` topics of interest (important points) on the theme to guide your 20 min presentation to your fellow students.\n",
    "- Work together and help each other out.\n",
    "\n",
    "_TIP_: Remember to check your topics along the exercise and adjust them accordingly.\n",
    "\n",
    "The team captain will be responsible for putting all the answers together on this notebook and making the pull request before the deadline set with the instructors."
   ]
  },
  {
   "cell_type": "markdown",
   "metadata": {},
   "source": [
    "# IMPORTANT POINTS\n",
    "\n",
    "- Choose a proper API, the more information the better\n",
    "- An accesible dictionary, tidy, well indexed\n",
    "- A great documentation, readeable and with good examples\n",
    "- Hide your token safely\n",
    "- Reliable developer"
   ]
  },
  {
   "cell_type": "markdown",
   "metadata": {},
   "source": [
    "## Questions\n",
    "\n",
    "- What is an API?\n",
    "    - Is an Application Programming Interface. A way of accessing to interesting data from websites or databases\n",
    "- What are API's used for?\n",
    "    - Enrich your databases \n",
    "- What is the difference between an API and a web page?\n",
    "    - An API is more focused on the data, a web page also looks after the visual aspects, how to show the information.\n",
    "- What is the difference between using an API and webscraping?\n",
    "    - API is more accessible, and data is showed sorted and tidy; webscrapping gives us raw information. Also API gives you an explicit consent. \n",
    "- What is communication protocol used to communicate with API's?\n",
    "    - Http\n",
    "- What is the http method we use the most?\n",
    "    - Get\n",
    "- What library do we use in python to communicate with an API?\n",
    "    - Requests"
   ]
  },
  {
   "cell_type": "markdown",
   "metadata": {},
   "source": [
    "![URL](../img/url.png)"
   ]
  },
  {
   "cell_type": "markdown",
   "metadata": {},
   "source": [
    "##### What are the different parts of a url?\n",
    "- 1. Protocolo\n",
    "- 2. Dominio principal\n",
    "    - 2.A. Subdominio\n",
    "    - 2.B. Dominio\n",
    "    - 2.C. Extensión\n",
    "- 3. Dirección a la página\n",
    "- 4. Parámetros"
   ]
  },
  {
   "cell_type": "markdown",
   "metadata": {},
   "source": [
    "Import the libraries we will use to connect to the API."
   ]
  },
  {
   "cell_type": "code",
   "execution_count": 2,
   "metadata": {},
   "outputs": [],
   "source": [
    "# Your answer\n",
    "import requests\n",
    "from datetime import datetime\n",
    "from getpass import getpass\n",
    "import random"
   ]
  },
  {
   "cell_type": "markdown",
   "metadata": {},
   "source": [
    "First of all, lets start with a simple example. Using API's is all about reading the doc's!\n",
    "\n",
    "Check out the [Open Notify](http://open-notify.org/) API. Can you get the name of the people in space and the position of the International Space Station right now?"
   ]
  },
  {
   "cell_type": "code",
   "execution_count": 3,
   "metadata": {},
   "outputs": [],
   "source": [
    "# Your answer\n",
    "url_ppl = 'http://api.open-notify.org/astros.json'\n",
    "url_pos = 'http://api.open-notify.org/iss-now.json'\n",
    "people_space = requests.get(url_ppl)\n",
    "position = requests.get(url_pos)"
   ]
  },
  {
   "cell_type": "code",
   "execution_count": 4,
   "metadata": {
    "scrolled": true
   },
   "outputs": [
    {
     "data": {
      "text/plain": [
       "['Sergey Ryzhikov', 'Kate Rubins', 'Sergey Kud-Sverchkov']"
      ]
     },
     "execution_count": 4,
     "metadata": {},
     "output_type": "execute_result"
    }
   ],
   "source": [
    "# Your answer\n",
    "[n['name'] for n in people_space.json()['people']]"
   ]
  },
  {
   "cell_type": "code",
   "execution_count": 5,
   "metadata": {},
   "outputs": [
    {
     "data": {
      "text/plain": [
       "{'latitude': '29.4281', 'longitude': '75.0644'}"
      ]
     },
     "execution_count": 5,
     "metadata": {},
     "output_type": "execute_result"
    }
   ],
   "source": [
    "position.json()['iss_position']"
   ]
  },
  {
   "cell_type": "markdown",
   "metadata": {},
   "source": [
    "Good. Let's try for a little bit more, can we get a prediction for when the ISS will pass over our campus in Madrid?"
   ]
  },
  {
   "cell_type": "markdown",
   "metadata": {},
   "source": [
    "Well, we can't acctually do it with the address. We must first convert it into coordinates: latitude and longitude.\n",
    "No problem! We can acctually use an API for this. \n",
    "Let's look at [OpenCageGeocoding](https://opencagedata.com/api).\n",
    "Looks like we need a token to use this API. You can ask for one, it's free and takes no more than a minute.\n",
    "After that, you can convert the address and check the ISS prediction."
   ]
  },
  {
   "cell_type": "code",
   "execution_count": 6,
   "metadata": {},
   "outputs": [],
   "source": [
    "# Your answer\n",
    "ironhack = \"Paseo de la Chopera, 14 Madrid\""
   ]
  },
  {
   "cell_type": "code",
   "execution_count": 7,
   "metadata": {},
   "outputs": [
    {
     "name": "stdout",
     "output_type": "stream",
     "text": [
      "Your password is?: ········\n"
     ]
    }
   ],
   "source": [
    "passwd = getpass(prompt='Your password is?: ')"
   ]
  },
  {
   "cell_type": "code",
   "execution_count": 8,
   "metadata": {},
   "outputs": [],
   "source": [
    "url_ironhack = f'https://api.opencagedata.com/geocode/v1/json?q={ironhack}&key={passwd}'\n",
    "geoloc = requests.get(url_ironhack)"
   ]
  },
  {
   "cell_type": "code",
   "execution_count": 10,
   "metadata": {},
   "outputs": [
    {
     "name": "stdout",
     "output_type": "stream",
     "text": [
      "40.3914995 -3.6962615\n"
     ]
    }
   ],
   "source": [
    "lat = geoloc.json()['results'][0]['bounds']['northeast']['lat']\n",
    "lng = geoloc.json()['results'][0]['bounds']['northeast']['lng']\n",
    "print(lat, lng)"
   ]
  },
  {
   "cell_type": "code",
   "execution_count": 11,
   "metadata": {},
   "outputs": [],
   "source": [
    "url_iss = f'http://api.open-notify.org/iss-pass.json?lat={lat}&lon={lng}'\n",
    "iss = requests.get(url_iss)"
   ]
  },
  {
   "cell_type": "code",
   "execution_count": 12,
   "metadata": {},
   "outputs": [
    {
     "name": "stdout",
     "output_type": "stream",
     "text": [
      "2020-11-12 15:35:58\n"
     ]
    }
   ],
   "source": [
    "predict_time = iss.json()['request']['datetime']\n",
    "print(datetime.utcfromtimestamp(predict_time).strftime('%Y-%m-%d %H:%M:%S'))"
   ]
  },
  {
   "cell_type": "markdown",
   "metadata": {},
   "source": [
    "Do not forget your API key is like a password and should be protected? What tools do you use for that?\n",
    "\n",
    "- Why do some API's have keys or user+secret?\n",
    "- How do you manage the query parameters and how do you send them through requests?\n",
    "\n",
    "_Remember_: Each API is it's own universe. It depends on how each one was programmed, so we always have to play detective and investigate the docummentation."
   ]
  },
  {
   "cell_type": "markdown",
   "metadata": {},
   "source": [
    "Check out the doc on the [ImgFlip API](https://imgflip.com/api). \n",
    "\n",
    "Try both endpoints. You should:\n",
    "\n",
    "- Choose a random meme out of the 100 one of the endpoints returns.\n",
    "- Try out the other endpoint and caption a few memes of your choice. \n",
    "\n",
    "_HINT:_ To display images on markdown, you should use the following syntax:\n",
    "```markdown\n",
    "![alt_text](image_url)\n",
    "```"
   ]
  },
  {
   "cell_type": "code",
   "execution_count": 11,
   "metadata": {},
   "outputs": [],
   "source": [
    "url ='https://api.imgflip.com/get_memes'\n",
    "memes = requests.get(url)"
   ]
  },
  {
   "cell_type": "code",
   "execution_count": 12,
   "metadata": {},
   "outputs": [],
   "source": [
    "meme_url = [e['url'] for e in memes.json()['data']['memes']]"
   ]
  },
  {
   "cell_type": "code",
   "execution_count": 25,
   "metadata": {},
   "outputs": [
    {
     "data": {
      "text/plain": [
       "'https://i.imgflip.com/2kbn1e.jpg'"
      ]
     },
     "execution_count": 25,
     "metadata": {},
     "output_type": "execute_result"
    }
   ],
   "source": [
    "random_meme = random.choice(meme_url)\n",
    "random_meme"
   ]
  },
  {
   "cell_type": "markdown",
   "metadata": {},
   "source": [
    "![alt_text](https://i.imgflip.com/2kbn1e.jpg)"
   ]
  },
  {
   "cell_type": "code",
   "execution_count": 14,
   "metadata": {},
   "outputs": [
    {
     "name": "stdout",
     "output_type": "stream",
     "text": [
      "Your password is?: ········\n"
     ]
    }
   ],
   "source": [
    "imgflip_passwd = getpass(prompt='Your password is?: ')"
   ]
  },
  {
   "cell_type": "code",
   "execution_count": 31,
   "metadata": {},
   "outputs": [],
   "source": [
    "params = {'template_id': 80707627, \n",
    "          'username': 'EduardoOporto', \n",
    "          'password': imgflip_passwd, \n",
    "          'text0': 'ESTA API NO FUNKA', \n",
    "          'text1': 'MALPARIDO'}\n",
    "url = 'https://api.imgflip.com/caption_image'\n",
    "\n",
    "memes_b = requests.get(url, params=params)"
   ]
  },
  {
   "cell_type": "code",
   "execution_count": 32,
   "metadata": {
    "scrolled": true
   },
   "outputs": [
    {
     "data": {
      "text/plain": [
       "'https://i.imgflip.com/4m3l3f.jpg'"
      ]
     },
     "execution_count": 32,
     "metadata": {},
     "output_type": "execute_result"
    }
   ],
   "source": [
    "memes_b.json()['data']['url']"
   ]
  },
  {
   "cell_type": "markdown",
   "metadata": {},
   "source": [
    "![alt_text](https://i.imgflip.com/4m3l3f.jpg)"
   ]
  },
  {
   "cell_type": "markdown",
   "metadata": {},
   "source": [
    "# Your answer\n",
    "![alt_text](\"https://i.imgflip.com/1bij.jpg\")"
   ]
  },
  {
   "cell_type": "markdown",
   "metadata": {},
   "source": [
    "### Discussion topics\n",
    "\n",
    "The following are a few questions and points you should debate and think about with your teammates.\n",
    "\n",
    "- What is your favourite API?\n",
    "- What kind of possibilities do you imagine API's allow?\n",
    "- If you could design any API, what would it be?\n",
    "- What are some pros and cons of using API's vs using a dataset you downloaded (a csv, for example)?\n",
    "- How do API's affect the work of a data analyst/scientist?\n",
    "- What can we do to make easier the process of having to read so much docummentation?"
   ]
  },
  {
   "cell_type": "markdown",
   "metadata": {},
   "source": [
    "#### Extra\n",
    "[Another list of public API's](https://apilist.fun/)"
   ]
  }
 ],
 "metadata": {
  "kernelspec": {
   "display_name": "Python 3",
   "language": "python",
   "name": "python3"
  },
  "language_info": {
   "codemirror_mode": {
    "name": "ipython",
    "version": 3
   },
   "file_extension": ".py",
   "mimetype": "text/x-python",
   "name": "python",
   "nbconvert_exporter": "python",
   "pygments_lexer": "ipython3",
   "version": "3.8.5"
  }
 },
 "nbformat": 4,
 "nbformat_minor": 4
}
